{
 "cells": [
  {
   "cell_type": "code",
   "execution_count": 2,
   "metadata": {},
   "outputs": [],
   "source": [
    "import pandas as pd"
   ]
  },
  {
   "cell_type": "markdown",
   "metadata": {},
   "source": [
    "# Praticando Data Wrangling \n",
    "<br>\n"
   ]
  },
  {
   "cell_type": "markdown",
   "metadata": {},
   "source": [
    "<hr>\n",
    "<h4>\n",
    "Limpando dados de 2020:\n",
    "</h4>"
   ]
  },
  {
   "cell_type": "code",
   "execution_count": 3,
   "metadata": {},
   "outputs": [
    {
     "name": "stdout",
     "output_type": "stream",
     "text": [
      "\n",
      "Dados Duplicados: 0\n",
      "\n",
      "Dados nulos:\n",
      " ANO                     0\n",
      "MES                     0\n",
      "SENADOR                 0\n",
      "TIPO_DESPESA            0\n",
      "CNPJ_CPF                0\n",
      "FORNECEDOR              0\n",
      "DOCUMENTO             620\n",
      "DATA                    0\n",
      "DETALHAMENTO         6862\n",
      "VALOR_REEMBOLSADO       0\n",
      "COD_DOCUMENTO           0\n",
      "dtype: int64\n",
      "\n",
      "\n",
      "Tipos de Dados das Colunas:\n",
      " ANO                   int64\n",
      "MES                   int64\n",
      "SENADOR              object\n",
      "TIPO_DESPESA         object\n",
      "CNPJ_CPF             object\n",
      "FORNECEDOR           object\n",
      "DOCUMENTO            object\n",
      "DATA                 object\n",
      "DETALHAMENTO         object\n",
      "VALOR_REEMBOLSADO    object\n",
      "COD_DOCUMENTO         int64\n",
      "dtype: object\n"
     ]
    }
   ],
   "source": [
    "#Tratando exceções:\n",
    "try:\n",
    "    raw_data = pd.read_csv('dataset/raw_data/despesa_ceaps_2020.csv', encoding=\"latin-1\", sep=\";\", skiprows=[0])\n",
    "except Exception as excp:\n",
    "    print(excp)\n",
    "\n",
    "\n",
    "# Diagnósticos:\n",
    "\n",
    "# Analisando se existem dados duplicados:\n",
    "print(f\"\\nDados Duplicados: {raw_data.COD_DOCUMENTO.duplicated().sum()}\")\n",
    "\n",
    "# Analisando se existem dados N/A ou Não Aplicavel:\n",
    "print(f\"\\nDados nulos:\\n {raw_data.isna().sum()}\")\n",
    "# raw_data[raw_data['DOCUMENTO'].isnull()]\n",
    "\n",
    "# Analisando se os tipos de dados fazem sentido:\n",
    "print(f\"\\n\\nTipos de Dados das Colunas:\\n {raw_data.dtypes}\")\n",
    "\n"
   ]
  },
  {
   "cell_type": "markdown",
   "metadata": {},
   "source": [
    "Os dados NaN podem ser ignorados, porém o VALOR_REEMBOLSADO é melhor que seja do tipo float64, ao invés de String"
   ]
  },
  {
   "cell_type": "code",
   "execution_count": 4,
   "metadata": {},
   "outputs": [
    {
     "name": "stdout",
     "output_type": "stream",
     "text": [
      "\n",
      "\n",
      "Tipos de Dados das Colunas:\n",
      " ANO                    int64\n",
      "MES                    int64\n",
      "SENADOR               object\n",
      "TIPO_DESPESA          object\n",
      "CNPJ_CPF              object\n",
      "FORNECEDOR            object\n",
      "DOCUMENTO             object\n",
      "DATA                  object\n",
      "DETALHAMENTO          object\n",
      "VALOR_REEMBOLSADO    float64\n",
      "COD_DOCUMENTO          int64\n",
      "dtype: object\n"
     ]
    }
   ],
   "source": [
    "# Tipo Float usa '.' ao invés de ',' e no nosso arquivo CSV os valores são separados com virgula então para resolver isso\n",
    "# utilizamos o metodo replace de str, visto que no momento a colunm é do tipo string e trocamos a ',' pelo '.' , depois\n",
    "# realizamos a conversão com astype\n",
    "raw_data['VALOR_REEMBOLSADO']=raw_data['VALOR_REEMBOLSADO'].str.replace(',','.').astype('float64')\n",
    "print(f\"\\n\\nTipos de Dados das Colunas:\\n {raw_data.dtypes}\")\n",
    "\n"
   ]
  },
  {
   "cell_type": "code",
   "execution_count": 6,
   "metadata": {},
   "outputs": [
    {
     "data": {
      "text/html": [
       "<div>\n",
       "<style scoped>\n",
       "    .dataframe tbody tr th:only-of-type {\n",
       "        vertical-align: middle;\n",
       "    }\n",
       "\n",
       "    .dataframe tbody tr th {\n",
       "        vertical-align: top;\n",
       "    }\n",
       "\n",
       "    .dataframe thead th {\n",
       "        text-align: right;\n",
       "    }\n",
       "</style>\n",
       "<table border=\"1\" class=\"dataframe\">\n",
       "  <thead>\n",
       "    <tr style=\"text-align: right;\">\n",
       "      <th></th>\n",
       "      <th>ANO</th>\n",
       "      <th>MES</th>\n",
       "      <th>SENADOR</th>\n",
       "      <th>TIPO_DESPESA</th>\n",
       "      <th>CNPJ_CPF</th>\n",
       "      <th>FORNECEDOR</th>\n",
       "      <th>DOCUMENTO</th>\n",
       "      <th>DATA</th>\n",
       "      <th>DETALHAMENTO</th>\n",
       "      <th>VALOR_REEMBOLSADO</th>\n",
       "      <th>COD_DOCUMENTO</th>\n",
       "    </tr>\n",
       "  </thead>\n",
       "  <tbody>\n",
       "    <tr>\n",
       "      <th>0</th>\n",
       "      <td>2020</td>\n",
       "      <td>1</td>\n",
       "      <td>ACIR GURGACZ</td>\n",
       "      <td>Aluguel de imóveis para escritório político, c...</td>\n",
       "      <td>05.914.650/0001-66</td>\n",
       "      <td>ENERGISA</td>\n",
       "      <td>14764742</td>\n",
       "      <td>06/01/2020</td>\n",
       "      <td>Despesa com energia elétrica para uso do escri...</td>\n",
       "      <td>122.62</td>\n",
       "      <td>2141820</td>\n",
       "    </tr>\n",
       "    <tr>\n",
       "      <th>1</th>\n",
       "      <td>2020</td>\n",
       "      <td>1</td>\n",
       "      <td>ACIR GURGACZ</td>\n",
       "      <td>Aluguel de imóveis para escritório político, c...</td>\n",
       "      <td>05.914.650/0001-66</td>\n",
       "      <td>ENERGISA</td>\n",
       "      <td>14764741</td>\n",
       "      <td>06/01/2020</td>\n",
       "      <td>Despesa com energia elétrica para uso do escri...</td>\n",
       "      <td>137.75</td>\n",
       "      <td>2141818</td>\n",
       "    </tr>\n",
       "    <tr>\n",
       "      <th>2</th>\n",
       "      <td>2020</td>\n",
       "      <td>1</td>\n",
       "      <td>ACIR GURGACZ</td>\n",
       "      <td>Aluguel de imóveis para escritório político, c...</td>\n",
       "      <td>062.135.728-64</td>\n",
       "      <td>FERNANDO WALDEIR PACINI e ANA LUCIA DA SILVA S...</td>\n",
       "      <td>001/2020</td>\n",
       "      <td>06/01/2020</td>\n",
       "      <td>Despesa com pagamento de aluguel de imóvel par...</td>\n",
       "      <td>1000.00</td>\n",
       "      <td>2139025</td>\n",
       "    </tr>\n",
       "    <tr>\n",
       "      <th>3</th>\n",
       "      <td>2020</td>\n",
       "      <td>1</td>\n",
       "      <td>ACIR GURGACZ</td>\n",
       "      <td>Aluguel de imóveis para escritório político, c...</td>\n",
       "      <td>004.948.028-63</td>\n",
       "      <td>GILBERTO PISELO DO NASCIMENTO</td>\n",
       "      <td>001/20</td>\n",
       "      <td>02/01/2020</td>\n",
       "      <td>Despesa com pagamento de aluguel de imóvel par...</td>\n",
       "      <td>6000.00</td>\n",
       "      <td>2139020</td>\n",
       "    </tr>\n",
       "    <tr>\n",
       "      <th>4</th>\n",
       "      <td>2020</td>\n",
       "      <td>1</td>\n",
       "      <td>ACIR GURGACZ</td>\n",
       "      <td>Aluguel de imóveis para escritório político, c...</td>\n",
       "      <td>05.423.963/0001-11</td>\n",
       "      <td>OI MÓVEL S.A.</td>\n",
       "      <td>333871612</td>\n",
       "      <td>25/12/2019</td>\n",
       "      <td>Despesa com pagamento de telefone para uso do ...</td>\n",
       "      <td>323.95</td>\n",
       "      <td>2139044</td>\n",
       "    </tr>\n",
       "  </tbody>\n",
       "</table>\n",
       "</div>"
      ],
      "text/plain": [
       "    ANO  MES       SENADOR                                       TIPO_DESPESA  \\\n",
       "0  2020    1  ACIR GURGACZ  Aluguel de imóveis para escritório político, c...   \n",
       "1  2020    1  ACIR GURGACZ  Aluguel de imóveis para escritório político, c...   \n",
       "2  2020    1  ACIR GURGACZ  Aluguel de imóveis para escritório político, c...   \n",
       "3  2020    1  ACIR GURGACZ  Aluguel de imóveis para escritório político, c...   \n",
       "4  2020    1  ACIR GURGACZ  Aluguel de imóveis para escritório político, c...   \n",
       "\n",
       "             CNPJ_CPF                                         FORNECEDOR  \\\n",
       "0  05.914.650/0001-66                                           ENERGISA   \n",
       "1  05.914.650/0001-66                                           ENERGISA   \n",
       "2      062.135.728-64  FERNANDO WALDEIR PACINI e ANA LUCIA DA SILVA S...   \n",
       "3      004.948.028-63                      GILBERTO PISELO DO NASCIMENTO   \n",
       "4  05.423.963/0001-11                                      OI MÓVEL S.A.   \n",
       "\n",
       "   DOCUMENTO        DATA                                       DETALHAMENTO  \\\n",
       "0   14764742  06/01/2020  Despesa com energia elétrica para uso do escri...   \n",
       "1   14764741  06/01/2020  Despesa com energia elétrica para uso do escri...   \n",
       "2   001/2020  06/01/2020  Despesa com pagamento de aluguel de imóvel par...   \n",
       "3     001/20  02/01/2020  Despesa com pagamento de aluguel de imóvel par...   \n",
       "4  333871612  25/12/2019  Despesa com pagamento de telefone para uso do ...   \n",
       "\n",
       "   VALOR_REEMBOLSADO  COD_DOCUMENTO  \n",
       "0             122.62        2141820  \n",
       "1             137.75        2141818  \n",
       "2            1000.00        2139025  \n",
       "3            6000.00        2139020  \n",
       "4             323.95        2139044  "
      ]
     },
     "execution_count": 6,
     "metadata": {},
     "output_type": "execute_result"
    }
   ],
   "source": [
    "\n",
    "# Salvando o CSV limpo, setando o index false pq o DataFram ja tem index, deixar True só irá duplicar:\n",
    "raw_data.to_csv( \"dataset/cleaned_data/clean_data_2020.csv\" , index=False)\n",
    "data_cleaned = pd.read_csv(\"dataset/cleaned_data/clean_data_2020.csv\")\n",
    "data_cleaned.head()\n"
   ]
  }
 ],
 "metadata": {
  "interpreter": {
   "hash": "bdb671202a387ebf0bc7bf04476cbafa528fae566193c2efe94e2aaf8539be45"
  },
  "kernelspec": {
   "display_name": "Python 3.9.7 ('base')",
   "language": "python",
   "name": "python3"
  },
  "language_info": {
   "codemirror_mode": {
    "name": "ipython",
    "version": 3
   },
   "file_extension": ".py",
   "mimetype": "text/x-python",
   "name": "python",
   "nbconvert_exporter": "python",
   "pygments_lexer": "ipython3",
   "version": "3.9.7"
  },
  "orig_nbformat": 4
 },
 "nbformat": 4,
 "nbformat_minor": 2
}
