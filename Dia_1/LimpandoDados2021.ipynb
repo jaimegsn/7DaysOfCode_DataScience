{
 "cells": [
  {
   "cell_type": "code",
   "execution_count": 1,
   "metadata": {},
   "outputs": [],
   "source": [
    "import pandas as pd"
   ]
  },
  {
   "cell_type": "markdown",
   "metadata": {},
   "source": [
    "# Praticando Data Wrangling \n",
    "<br>\n"
   ]
  },
  {
   "cell_type": "markdown",
   "metadata": {},
   "source": [
    "<hr>\n",
    "<h4>\n",
    "Limpando dados de 2021:\n",
    "</h4>"
   ]
  },
  {
   "cell_type": "code",
   "execution_count": 2,
   "metadata": {},
   "outputs": [
    {
     "name": "stdout",
     "output_type": "stream",
     "text": [
      "\n",
      "Dados Duplicados: 0\n",
      "\n",
      "Dados nulos:\n",
      " ANO                     0\n",
      "MES                     0\n",
      "SENADOR                 0\n",
      "TIPO_DESPESA            0\n",
      "CNPJ_CPF                0\n",
      "FORNECEDOR              0\n",
      "DOCUMENTO             675\n",
      "DATA                    0\n",
      "DETALHAMENTO         7615\n",
      "VALOR_REEMBOLSADO       0\n",
      "COD_DOCUMENTO           0\n",
      "dtype: int64\n",
      "\n",
      "\n",
      "Tipos de Dados das Colunas:\n",
      " ANO                   int64\n",
      "MES                   int64\n",
      "SENADOR              object\n",
      "TIPO_DESPESA         object\n",
      "CNPJ_CPF             object\n",
      "FORNECEDOR           object\n",
      "DOCUMENTO            object\n",
      "DATA                 object\n",
      "DETALHAMENTO         object\n",
      "VALOR_REEMBOLSADO    object\n",
      "COD_DOCUMENTO         int64\n",
      "dtype: object\n"
     ]
    }
   ],
   "source": [
    "#Tratando exceções:\n",
    "try:\n",
    "    raw_data = pd.read_csv('dataset/raw_data/despesa_ceaps_2021.csv', encoding=\"latin-1\", sep=\";\", skiprows=[0])\n",
    "except Exception as excp:\n",
    "    print(excp)\n",
    "\n",
    "\n",
    "# Diagnósticos:\n",
    "\n",
    "# Analisando se existem dados duplicados:\n",
    "print(f\"\\nDados Duplicados: {raw_data.COD_DOCUMENTO.duplicated().sum()}\")\n",
    "\n",
    "# Analisando se existem dados N/A ou Não Aplicavel:\n",
    "print(f\"\\nDados nulos:\\n {raw_data.isna().sum()}\")\n",
    "# raw_data[raw_data['DOCUMENTO'].isnull()]\n",
    "\n",
    "# Analisando se os tipos de dados fazem sentido:\n",
    "print(f\"\\n\\nTipos de Dados das Colunas:\\n {raw_data.dtypes}\")\n",
    "\n"
   ]
  },
  {
   "cell_type": "markdown",
   "metadata": {},
   "source": [
    "Os dados NaN podem ser ignorados, porém o VALOR_REEMBOLSADO é melhor que seja do tipo float64, ao invés de String"
   ]
  },
  {
   "cell_type": "code",
   "execution_count": 3,
   "metadata": {},
   "outputs": [
    {
     "name": "stdout",
     "output_type": "stream",
     "text": [
      "\n",
      "\n",
      "Tipos de Dados das Colunas:\n",
      " ANO                    int64\n",
      "MES                    int64\n",
      "SENADOR               object\n",
      "TIPO_DESPESA          object\n",
      "CNPJ_CPF              object\n",
      "FORNECEDOR            object\n",
      "DOCUMENTO             object\n",
      "DATA                  object\n",
      "DETALHAMENTO          object\n",
      "VALOR_REEMBOLSADO    float64\n",
      "COD_DOCUMENTO          int64\n",
      "dtype: object\n"
     ]
    }
   ],
   "source": [
    "# Tipo Float usa '.' ao invés de ',' e no nosso arquivo CSV os valores são separados com virgula então para resolver isso\n",
    "# utilizamos o metodo replace de str, visto que no momento a colunm é do tipo string e trocamos a ',' pelo '.' , depois\n",
    "# realizamos a conversão com astype\n",
    "raw_data['VALOR_REEMBOLSADO']=raw_data['VALOR_REEMBOLSADO'].str.replace(',','.').astype('float64')\n",
    "print(f\"\\n\\nTipos de Dados das Colunas:\\n {raw_data.dtypes}\")\n",
    "\n"
   ]
  },
  {
   "cell_type": "code",
   "execution_count": 6,
   "metadata": {},
   "outputs": [
    {
     "data": {
      "text/html": [
       "<div>\n",
       "<style scoped>\n",
       "    .dataframe tbody tr th:only-of-type {\n",
       "        vertical-align: middle;\n",
       "    }\n",
       "\n",
       "    .dataframe tbody tr th {\n",
       "        vertical-align: top;\n",
       "    }\n",
       "\n",
       "    .dataframe thead th {\n",
       "        text-align: right;\n",
       "    }\n",
       "</style>\n",
       "<table border=\"1\" class=\"dataframe\">\n",
       "  <thead>\n",
       "    <tr style=\"text-align: right;\">\n",
       "      <th></th>\n",
       "      <th>ANO</th>\n",
       "      <th>MES</th>\n",
       "      <th>SENADOR</th>\n",
       "      <th>TIPO_DESPESA</th>\n",
       "      <th>CNPJ_CPF</th>\n",
       "      <th>FORNECEDOR</th>\n",
       "      <th>DOCUMENTO</th>\n",
       "      <th>DATA</th>\n",
       "      <th>DETALHAMENTO</th>\n",
       "      <th>VALOR_REEMBOLSADO</th>\n",
       "      <th>COD_DOCUMENTO</th>\n",
       "    </tr>\n",
       "  </thead>\n",
       "  <tbody>\n",
       "    <tr>\n",
       "      <th>0</th>\n",
       "      <td>2021</td>\n",
       "      <td>1</td>\n",
       "      <td>ACIR GURGACZ</td>\n",
       "      <td>Aluguel de imóveis para escritório político, c...</td>\n",
       "      <td>05.914.650/0001-66</td>\n",
       "      <td>ENERGISA</td>\n",
       "      <td>023.489.627</td>\n",
       "      <td>21/01/2021</td>\n",
       "      <td>Pagamento de energia elétrica para uso do escr...</td>\n",
       "      <td>75.29</td>\n",
       "      <td>2158003</td>\n",
       "    </tr>\n",
       "    <tr>\n",
       "      <th>1</th>\n",
       "      <td>2021</td>\n",
       "      <td>1</td>\n",
       "      <td>ACIR GURGACZ</td>\n",
       "      <td>Aluguel de imóveis para escritório político, c...</td>\n",
       "      <td>062.135.728-64</td>\n",
       "      <td>FERNANDO WALDEIR PACINI e ANA LUCIA DA SILVA S...</td>\n",
       "      <td>01/2021</td>\n",
       "      <td>05/01/2021</td>\n",
       "      <td>Despesa com pagamento de aluguel de imóvel par...</td>\n",
       "      <td>1000.00</td>\n",
       "      <td>2157367</td>\n",
       "    </tr>\n",
       "    <tr>\n",
       "      <th>2</th>\n",
       "      <td>2021</td>\n",
       "      <td>1</td>\n",
       "      <td>ACIR GURGACZ</td>\n",
       "      <td>Aluguel de imóveis para escritório político, c...</td>\n",
       "      <td>004.948.028-63</td>\n",
       "      <td>GILBERTO PISELO DO NASCIMENTO</td>\n",
       "      <td>001/21</td>\n",
       "      <td>06/01/2021</td>\n",
       "      <td>Despesa com aluguel de imóvel para uso do escr...</td>\n",
       "      <td>6000.00</td>\n",
       "      <td>2156383</td>\n",
       "    </tr>\n",
       "    <tr>\n",
       "      <th>3</th>\n",
       "      <td>2021</td>\n",
       "      <td>1</td>\n",
       "      <td>ACIR GURGACZ</td>\n",
       "      <td>Divulgação da atividade parlamentar</td>\n",
       "      <td>26.320.603/0001-64</td>\n",
       "      <td>INFORMANAHORA</td>\n",
       "      <td>10</td>\n",
       "      <td>25/01/2021</td>\n",
       "      <td>Divulgação da atividade parlamentar</td>\n",
       "      <td>1500.00</td>\n",
       "      <td>2154509</td>\n",
       "    </tr>\n",
       "    <tr>\n",
       "      <th>4</th>\n",
       "      <td>2021</td>\n",
       "      <td>1</td>\n",
       "      <td>ACIR GURGACZ</td>\n",
       "      <td>Divulgação da atividade parlamentar</td>\n",
       "      <td>13.659.201/0001-47</td>\n",
       "      <td>LINHA PURPURA FOTO E VIDEO LTDA</td>\n",
       "      <td>44</td>\n",
       "      <td>07/01/2021</td>\n",
       "      <td>Divulgação da atividade parlamentar</td>\n",
       "      <td>6000.00</td>\n",
       "      <td>2154507</td>\n",
       "    </tr>\n",
       "  </tbody>\n",
       "</table>\n",
       "</div>"
      ],
      "text/plain": [
       "    ANO  MES       SENADOR                                       TIPO_DESPESA  \\\n",
       "0  2021    1  ACIR GURGACZ  Aluguel de imóveis para escritório político, c...   \n",
       "1  2021    1  ACIR GURGACZ  Aluguel de imóveis para escritório político, c...   \n",
       "2  2021    1  ACIR GURGACZ  Aluguel de imóveis para escritório político, c...   \n",
       "3  2021    1  ACIR GURGACZ                Divulgação da atividade parlamentar   \n",
       "4  2021    1  ACIR GURGACZ                Divulgação da atividade parlamentar   \n",
       "\n",
       "             CNPJ_CPF                                         FORNECEDOR  \\\n",
       "0  05.914.650/0001-66                                           ENERGISA   \n",
       "1      062.135.728-64  FERNANDO WALDEIR PACINI e ANA LUCIA DA SILVA S...   \n",
       "2      004.948.028-63                      GILBERTO PISELO DO NASCIMENTO   \n",
       "3  26.320.603/0001-64                                      INFORMANAHORA   \n",
       "4  13.659.201/0001-47                    LINHA PURPURA FOTO E VIDEO LTDA   \n",
       "\n",
       "     DOCUMENTO        DATA                                       DETALHAMENTO  \\\n",
       "0  023.489.627  21/01/2021  Pagamento de energia elétrica para uso do escr...   \n",
       "1      01/2021  05/01/2021  Despesa com pagamento de aluguel de imóvel par...   \n",
       "2       001/21  06/01/2021  Despesa com aluguel de imóvel para uso do escr...   \n",
       "3           10  25/01/2021                Divulgação da atividade parlamentar   \n",
       "4           44  07/01/2021                Divulgação da atividade parlamentar   \n",
       "\n",
       "   VALOR_REEMBOLSADO  COD_DOCUMENTO  \n",
       "0              75.29        2158003  \n",
       "1            1000.00        2157367  \n",
       "2            6000.00        2156383  \n",
       "3            1500.00        2154509  \n",
       "4            6000.00        2154507  "
      ]
     },
     "execution_count": 6,
     "metadata": {},
     "output_type": "execute_result"
    }
   ],
   "source": [
    "\n",
    "# Salvando o CSV limpo, setando o index false pq o DataFram ja tem index, deixar True só irá duplicar:\n",
    "raw_data.to_csv( \"dataset/cleaned_data/clean_data_2021.csv\" , index=False)\n",
    "data_cleaned = pd.read_csv(\"dataset/cleaned_data/clean_data_2021.csv\")\n",
    "data_cleaned.head()\n"
   ]
  }
 ],
 "metadata": {
  "interpreter": {
   "hash": "bdb671202a387ebf0bc7bf04476cbafa528fae566193c2efe94e2aaf8539be45"
  },
  "kernelspec": {
   "display_name": "Python 3.9.7 ('base')",
   "language": "python",
   "name": "python3"
  },
  "language_info": {
   "codemirror_mode": {
    "name": "ipython",
    "version": 3
   },
   "file_extension": ".py",
   "mimetype": "text/x-python",
   "name": "python",
   "nbconvert_exporter": "python",
   "pygments_lexer": "ipython3",
   "version": "3.9.7"
  },
  "orig_nbformat": 4
 },
 "nbformat": 4,
 "nbformat_minor": 2
}
